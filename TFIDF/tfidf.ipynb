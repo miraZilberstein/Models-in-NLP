{
  "cells": [
    {
      "cell_type": "markdown",
      "metadata": {
        "id": "view-in-github",
        "colab_type": "text"
      },
      "source": [
        "<a href=\"https://colab.research.google.com/github/miraZilberstein/Models-in-NLP/blob/main/tfidf.ipynb\" target=\"_parent\"><img src=\"https://colab.research.google.com/assets/colab-badge.svg\" alt=\"Open In Colab\"/></a>"
      ]
    },
    {
      "cell_type": "code",
      "execution_count": null,
      "metadata": {
        "id": "xzv4Arui02oR"
      },
      "outputs": [],
      "source": [
        "import math"
      ]
    },
    {
      "cell_type": "markdown",
      "metadata": {
        "id": "GpfgBnqv04UI"
      },
      "source": [
        "**TFIDF implementation**"
      ]
    },
    {
      "cell_type": "code",
      "execution_count": null,
      "metadata": {
        "id": "-Fj48N5THxUv"
      },
      "outputs": [],
      "source": [
        "def computeTF(token: str, doc: str):\n",
        "  t_appears = 0 #=count(t,d)\n",
        "  d_size = 0\n",
        "  for str in doc.split():  #compare all words in doc\n",
        "    if str.lower() == token.lower():\n",
        "      t_appears += 1\n",
        "    d_size += 1\n",
        "  return t_appears/d_size"
      ]
    },
    {
      "cell_type": "code",
      "execution_count": null,
      "metadata": {
        "id": "PB9whIUV-Upo"
      },
      "outputs": [],
      "source": [
        "def isWordInDoc(token: str, doc: str): #help func for computeDF, return true if token exists in doc\n",
        "  for str in doc.split():\n",
        "    if str.lower() == token.lower():\n",
        "      return True\n",
        "  return False"
      ]
    },
    {
      "cell_type": "code",
      "execution_count": null,
      "metadata": {
        "id": "dH_neFJeMEbN"
      },
      "outputs": [],
      "source": [
        "def computeDF(token: str, corpus: list):\n",
        "  counter = 0\n",
        "  for doc in corpus:\n",
        "    if(isWordInDoc(token,doc)):\n",
        "      counter += 1\n",
        "  return counter"
      ]
    },
    {
      "cell_type": "code",
      "execution_count": null,
      "metadata": {
        "id": "xoW7Osq7crW6"
      },
      "outputs": [],
      "source": [
        "def computeIDF(token: str, corpus: list):\n",
        "  df_t = computeDF(token, corpus)\n",
        "  return math.log(len(corpus)/(df_t + 1))"
      ]
    },
    {
      "cell_type": "code",
      "execution_count": null,
      "metadata": {
        "id": "Ccm-vrsgctZI"
      },
      "outputs": [],
      "source": [
        "def computeTFIDF(token: str, doc: str, corpus: str):\n",
        "  return computeTF(token, doc)*computeIDF(token, corpus)"
      ]
    },
    {
      "cell_type": "code",
      "execution_count": null,
      "metadata": {
        "id": "sFGUVkMFfBUR"
      },
      "outputs": [],
      "source": [
        "pip install datasets"
      ]
    },
    {
      "cell_type": "code",
      "execution_count": null,
      "metadata": {
        "id": "TgJyHESjfz0W"
      },
      "outputs": [],
      "source": [
        "pip install apache_beam"
      ]
    },
    {
      "cell_type": "code",
      "execution_count": null,
      "metadata": {
        "id": "Pm75pVLFfGo1"
      },
      "outputs": [],
      "source": [
        "# constructing the corpus\n",
        "\n",
        "from datasets import load_dataset\n",
        "\n",
        "# loading wikipedia using HuggingFace\n",
        "wikipedia = load_dataset('wikipedia', '20220301.en', beam_runner='DirectRunner')\n",
        "\n",
        "# Searching for the New Zealand's wikipedia passage\n",
        "for passage in wikipedia['train']:\n",
        "  if passage['title'] == 'New Zealand':\n",
        "    new_zealand_passage = passage['text']\n",
        "    break\n",
        "\n",
        "# Breaking the passage into a corpus of sentences.\n",
        "corpus = new_zealand_passage.split('.')\n",
        "print(corpus)"
      ]
    },
    {
      "cell_type": "code",
      "execution_count": null,
      "metadata": {
        "id": "Hc6x4ORDjtH-"
      },
      "outputs": [],
      "source": [
        "# defining the query\n",
        "\n",
        "query = 'What is the capital of New Zealand?'"
      ]
    },
    {
      "cell_type": "code",
      "execution_count": null,
      "metadata": {
        "colab": {
          "base_uri": "https://localhost:8080/"
        },
        "id": "bXZ-ykTSHV2Z",
        "outputId": "d412b8c7-e689-4ef8-9c41-bf553c1a61e3"
      },
      "outputs": [
        {
          "output_type": "stream",
          "name": "stdout",
          "text": [
            " New Zealand's capital city is Wellington, and its most populous city is Auckland\n",
            "\n",
            "\n",
            "The South Island is the largest landmass of New Zealand\n",
            " Elizabeth II is the queen of New Zealand and thus the head of state\n"
          ]
        }
      ],
      "source": [
        "TFIDF_list=[] #TFIDF_list[i] = mean tfidf of query for each document in corpus\n",
        "query_list = query[:-1].split() #list of the words in query\n",
        "\n",
        "#compute TFIDF\n",
        "for i in range(len(corpus)):\n",
        "  sum_TFIDF = 0\n",
        "  for token in query_list:\n",
        "    sum_TFIDF += computeTFIDF(token, corpus[i], corpus)\n",
        "  mean_TFIDF = sum_TFIDF/len(query_list)\n",
        "  TFIDF_list.append(mean_TFIDF)\n",
        "\n",
        "# Sorting the corpus based on TFIDF_list\n",
        "Sorted_corpus  = [val for (_, val) in sorted(zip(TFIDF_list, corpus), key=lambda x: x[0], reverse=True)]\n",
        "\n",
        "#print 3 highest scored sentences out of the corpus\n",
        "for sentence in Sorted_corpus[:3]:\n",
        "  print(sentence)\n",
        "\n"
      ]
    }
  ],
  "metadata": {
    "colab": {
      "provenance": [],
      "include_colab_link": true
    },
    "kernelspec": {
      "display_name": "Python 3",
      "name": "python3"
    },
    "language_info": {
      "name": "python"
    }
  },
  "nbformat": 4,
  "nbformat_minor": 0
}
